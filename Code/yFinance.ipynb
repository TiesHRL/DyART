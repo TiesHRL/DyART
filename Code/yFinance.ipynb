{
 "cells": [
  {
   "cell_type": "code",
   "execution_count": 1,
   "metadata": {},
   "outputs": [
    {
     "name": "stdout",
     "output_type": "stream",
     "text": [
      "[*********************100%***********************]  3 of 3 completed\n"
     ]
    }
   ],
   "source": [
    "import yfinance as yf\n",
    "data = yf.download([\"^GSPC\", \"^IXIC\", \"GD=F\"], start=\"2006-06-01\", end=\"2023-01-01\")"
   ]
  },
  {
   "cell_type": "code",
   "execution_count": 6,
   "metadata": {},
   "outputs": [],
   "source": [
    "close = data['Adj Close']"
   ]
  },
  {
   "cell_type": "code",
   "execution_count": 8,
   "metadata": {},
   "outputs": [
    {
     "data": {
      "text/plain": [
       "GD=F        ^GSPC        ^IXIC      \n",
       "245.899994  2470.500000  7360.580078    1\n",
       "602.049988  1474.770020  2696.000000    1\n",
       "600.000000  1330.609985  2326.199951    1\n",
       "            1336.910034  2293.030029    1\n",
       "            2007.709961  4582.899902    1\n",
       "                                       ..\n",
       "435.549988  2993.070068  8202.530273    1\n",
       "435.600006  951.130005   1909.290039    1\n",
       "            1377.380005  2344.840088    1\n",
       "            2117.689941  5092.080078    1\n",
       "886.799988  1262.900024  2245.379883    1\n",
       "Name: count, Length: 3991, dtype: int64"
      ]
     },
     "execution_count": 8,
     "metadata": {},
     "output_type": "execute_result"
    }
   ],
   "source": [
    "close.value_counts()"
   ]
  },
  {
   "cell_type": "code",
   "execution_count": 20,
   "metadata": {},
   "outputs": [],
   "source": [
    "close_prices = data.Close"
   ]
  },
  {
   "cell_type": "code",
   "execution_count": 21,
   "metadata": {},
   "outputs": [],
   "source": [
    "close_prices.to_csv(\"close_prices.csv\")"
   ]
  }
 ],
 "metadata": {
  "kernelspec": {
   "display_name": ".venv",
   "language": "python",
   "name": "python3"
  },
  "language_info": {
   "codemirror_mode": {
    "name": "ipython",
    "version": 3
   },
   "file_extension": ".py",
   "mimetype": "text/x-python",
   "name": "python",
   "nbconvert_exporter": "python",
   "pygments_lexer": "ipython3",
   "version": "3.11.3"
  },
  "orig_nbformat": 4
 },
 "nbformat": 4,
 "nbformat_minor": 2
}
