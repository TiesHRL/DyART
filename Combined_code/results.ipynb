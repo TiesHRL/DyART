{
 "cells": [
  {
   "cell_type": "code",
   "execution_count": 38,
   "metadata": {},
   "outputs": [
    {
     "name": "stdout",
     "output_type": "stream",
     "text": [
      "                0            1            2            3            4   \n",
      "0     1384.558914  1384.558914  1376.774145  1376.774145  1378.128788  \\\n",
      "1     1367.182535  1367.182535  1371.592101  1371.592101  1369.580960   \n",
      "2     1357.390791  1357.390791  1366.404082  1366.404082  1366.637187   \n",
      "3     1359.880505  1359.880505  1365.012828  1365.012828  1364.470099   \n",
      "4     1352.218429  1352.218429  1371.390010  1371.390010  1378.232523   \n",
      "...           ...          ...          ...          ...          ...   \n",
      "4213  3860.485666  3860.485666  3861.577162  3861.577162  3863.508493   \n",
      "4214  3861.448498  3861.448498  3861.176664  3861.176664  3870.470424   \n",
      "4215  3853.077427  3853.077427  3859.619288  3859.619288  3846.297204   \n",
      "4216  3798.665422  3798.665422  3804.640384  3804.640384  3804.200794   \n",
      "4217  3852.657788  3852.657788  3848.745040  3848.745040  3873.048265   \n",
      "\n",
      "                5  \n",
      "0     1378.128788  \n",
      "1     1369.580960  \n",
      "2     1366.637187  \n",
      "3     1364.470099  \n",
      "4     1378.232523  \n",
      "...           ...  \n",
      "4213  3846.018084  \n",
      "4214  3852.502354  \n",
      "4215  3834.540570  \n",
      "4216  3789.796095  \n",
      "4217  3850.572490  \n",
      "\n",
      "[4218 rows x 6 columns]\n",
      "                      0         1             2             3          4   \n",
      "Date                                                                       \n",
      "2003-01-01   879.820007  0.008424   8341.629883   1335.510010  28.620001  \\\n",
      "2003-01-02   909.030029  0.008319   8607.519531   1384.849976  25.389999   \n",
      "2003-01-03   908.590027  0.008356   8601.690430   1387.079956  24.680000   \n",
      "2003-01-06   929.010010  0.008378   8773.570312   1421.319946  24.910000   \n",
      "2003-01-07   922.929993  0.008318   8740.589844   1431.569946  25.129999   \n",
      "...                 ...       ...           ...           ...        ...   \n",
      "2022-12-26  3844.820068  0.007531  33203.929688  10497.860352  20.870001   \n",
      "2022-12-27  3829.250000  0.007532  33241.558594  10353.230469  21.650000   \n",
      "2022-12-28  3783.219971  0.007491  32875.710938  10213.290039  22.139999   \n",
      "2022-12-29  3849.280029  0.007461  33220.800781  10478.089844  21.440001   \n",
      "2022-12-30  3839.500000  0.007524  33147.250000  10466.480469  21.670000   \n",
      "\n",
      "                   5         6             7     8  \n",
      "Date                                                \n",
      "2003-01-01  1.047300  1.609300  3.998571e-07  1.64  \n",
      "2003-01-02  1.076700  1.646900  3.975714e-07  1.64  \n",
      "2003-01-03  1.080000  1.575700  3.952857e-07  1.62  \n",
      "2003-01-06  1.172200  1.626100  3.887143e-07  1.63  \n",
      "2003-01-07  1.156400  1.663300  3.865714e-07  1.62  \n",
      "...              ...       ...           ...   ...  \n",
      "2022-12-26  1.063970  1.208290  2.110000e-07  2.20  \n",
      "2022-12-27  1.063685  1.202615  2.100000e-07  2.26  \n",
      "2022-12-28  1.062925  1.202970  2.090000e-07  2.28  \n",
      "2022-12-29  1.066050  1.205400  2.080000e-07  2.27  \n",
      "2022-12-30  1.072550  1.210300  2.070000e-07  2.30  \n",
      "\n",
      "[5218 rows x 9 columns]\n"
     ]
    }
   ],
   "source": [
    "import pandas as pd\n",
    "import numpy as np \n",
    "\n",
    "results = pd.read_csv(\"..\\\\results.csv\")\n",
    "target = pd.read_csv(\"..\\\\Data\\\\fin_data.csv\")\n",
    "results = results.T\n",
    "results = results.drop([\"Unnamed: 0\"])\n",
    "target.index = target[\"Date\"]\n",
    "target = target.drop([\"Date\"], axis=1)\n",
    "print(results)\n",
    "print(target)"
   ]
  },
  {
   "cell_type": "code",
   "execution_count": 9,
   "metadata": {},
   "outputs": [
    {
     "data": {
      "text/plain": [
       "(6, 4219)"
      ]
     },
     "execution_count": 9,
     "metadata": {},
     "output_type": "execute_result"
    }
   ],
   "source": [
    "results.shape"
   ]
  },
  {
   "cell_type": "code",
   "execution_count": 48,
   "metadata": {},
   "outputs": [],
   "source": [
    "target = target.iloc[1000:, 0]"
   ]
  },
  {
   "cell_type": "code",
   "execution_count": 59,
   "metadata": {},
   "outputs": [
    {
     "name": "stdout",
     "output_type": "stream",
     "text": [
      "39.45135368014763\n",
      "0.46597106948067346\n",
      "\n",
      "39.46152490872326\n",
      "0.46407398624614654\n",
      "\n",
      "36.849626364630225\n",
      "0.46454825705477826\n",
      "\n",
      "36.991411867889376\n",
      "0.4657339340763576\n",
      "\n",
      "32.573886191722565\n",
      "0.4607540905857245\n",
      "\n",
      "28.45275423417483\n",
      "0.46146549679867205\n",
      "\n"
     ]
    }
   ],
   "source": [
    "from ARXT import hit_rate\n",
    "from sklearn.metrics import mean_squared_error\n",
    "from math import sqrt\n",
    "\n",
    "\n",
    "# rmse_sample = (sqrt(mean_squared_error(d_val_cumsum, valid_prediction_cumsum)))\n",
    "\n",
    "for i, forecast in enumerate(results):\n",
    "    print(sqrt(mean_squared_error(target, results.loc[:,i])))\n",
    "    print(hit_rate(target, results.loc[:,i]))\n",
    "    print()"
   ]
  },
  {
   "cell_type": "code",
   "execution_count": 58,
   "metadata": {},
   "outputs": [],
   "source": [
    "first = len(target.loc[:'2007-08-08'])\n",
    "second = len(target.loc[:'2009-07-14'])"
   ]
  },
  {
   "cell_type": "code",
   "execution_count": 63,
   "metadata": {},
   "outputs": [
    {
     "data": {
      "text/plain": [
       "0      1384.558914\n",
       "1      1367.182535\n",
       "2      1357.390791\n",
       "3      1359.880505\n",
       "4      1352.218429\n",
       "          ...     \n",
       "196    1457.546856\n",
       "197    1474.847725\n",
       "198    1449.853531\n",
       "199    1446.554469\n",
       "200    1474.521231\n",
       "Name: 0, Length: 201, dtype: float64"
      ]
     },
     "execution_count": 63,
     "metadata": {},
     "output_type": "execute_result"
    }
   ],
   "source": [
    "results.iloc[:first,i]"
   ]
  },
  {
   "cell_type": "code",
   "execution_count": 66,
   "metadata": {},
   "outputs": [],
   "source": [
    "def res(target, forecast):\n",
    "    rmse = sqrt(mean_squared_error(target, forecast))\n",
    "    hr = hit_rate(target, forecast)\n",
    "    return(rmse, hr)"
   ]
  },
  {
   "cell_type": "code",
   "execution_count": 67,
   "metadata": {},
   "outputs": [
    {
     "name": "stdout",
     "output_type": "stream",
     "text": [
      "[(28.31533961169276, 0.43), (28.31533961169276, 0.43), (11.473050027421644, 0.47), (11.473050027421644, 0.47), (10.982349448178164, 0.495), (10.982843682334524, 0.495)]\n",
      "[(27.23559590103965, 0.4393638170974155), (27.358637104446768, 0.4234592445328032), (22.5235357444839, 0.4234592445328032), (24.391189995072256, 0.43339960238568587), (22.53688072775694, 0.4095427435387674), (22.256801209358333, 0.415506958250497)]\n",
      "[(41.43018592790852, 0.4718109339407745), (41.43018592790852, 0.4718109339407745), (39.371156719260185, 0.4701025056947608), (39.371156719260185, 0.4701025056947608), (34.55756202310222, 0.46611617312072895), (29.900735053396403, 0.46611617312072895)]\n"
     ]
    }
   ],
   "source": [
    "first_split = []\n",
    "second_split = []\n",
    "third_split = []\n",
    "for i, forecast in enumerate(results):\n",
    "    first_split.append(res(target.iloc[:first], results.iloc[:first,i]))\n",
    "    second_split.append(res(target.iloc[first:second], results.iloc[first:second,i]))\n",
    "    third_split.append(res(target.iloc[second:], results.iloc[second:,i]))\n",
    "\n",
    "\n",
    "    # first_split.append((sqrt(mean_squared_error()))\n",
    "    # print(hit_rate(target.iloc[:first], results.iloc[:first,i]))\n",
    "    # print(\"second split\")\n",
    "    # print(sqrt(mean_squared_error(target.iloc[first:second], results.iloc[first:second,i])))\n",
    "    # print(hit_rate(target.iloc[first:second], results.iloc[first:second,i]))\n",
    "    # print(\"Third split\")\n",
    "    # print(sqrt(mean_squared_error(target.iloc[second:], results.iloc[second:,i])))\n",
    "    # print(hit_rate(target.iloc[second:], results.iloc[second:,i]))\n",
    "    # print()\n",
    "print(first_split)\n",
    "print(second_split)\n",
    "print(third_split)"
   ]
  },
  {
   "cell_type": "code",
   "execution_count": 78,
   "metadata": {},
   "outputs": [
    {
     "data": {
      "text/html": [
       "<div>\n",
       "<style scoped>\n",
       "    .dataframe tbody tr th:only-of-type {\n",
       "        vertical-align: middle;\n",
       "    }\n",
       "\n",
       "    .dataframe tbody tr th {\n",
       "        vertical-align: top;\n",
       "    }\n",
       "\n",
       "    .dataframe thead th {\n",
       "        text-align: right;\n",
       "    }\n",
       "</style>\n",
       "<table border=\"1\" class=\"dataframe\">\n",
       "  <thead>\n",
       "    <tr style=\"text-align: right;\">\n",
       "      <th></th>\n",
       "      <th>0</th>\n",
       "      <th>1</th>\n",
       "      <th>2</th>\n",
       "      <th>3</th>\n",
       "      <th>4</th>\n",
       "      <th>5</th>\n",
       "    </tr>\n",
       "  </thead>\n",
       "  <tbody>\n",
       "    <tr>\n",
       "      <th>0</th>\n",
       "      <td>(28.31533961169276, 0.43)</td>\n",
       "      <td>(28.31533961169276, 0.43)</td>\n",
       "      <td>(11.473050027421644, 0.47)</td>\n",
       "      <td>(11.473050027421644, 0.47)</td>\n",
       "      <td>(10.982349448178164, 0.495)</td>\n",
       "      <td>(10.982843682334524, 0.495)</td>\n",
       "    </tr>\n",
       "    <tr>\n",
       "      <th>1</th>\n",
       "      <td>(27.23559590103965, 0.4393638170974155)</td>\n",
       "      <td>(27.358637104446768, 0.4234592445328032)</td>\n",
       "      <td>(22.5235357444839, 0.4234592445328032)</td>\n",
       "      <td>(24.391189995072256, 0.43339960238568587)</td>\n",
       "      <td>(22.53688072775694, 0.4095427435387674)</td>\n",
       "      <td>(22.256801209358333, 0.415506958250497)</td>\n",
       "    </tr>\n",
       "    <tr>\n",
       "      <th>2</th>\n",
       "      <td>(41.43018592790852, 0.4718109339407745)</td>\n",
       "      <td>(41.43018592790852, 0.4718109339407745)</td>\n",
       "      <td>(39.371156719260185, 0.4701025056947608)</td>\n",
       "      <td>(39.371156719260185, 0.4701025056947608)</td>\n",
       "      <td>(34.55756202310222, 0.46611617312072895)</td>\n",
       "      <td>(29.900735053396403, 0.46611617312072895)</td>\n",
       "    </tr>\n",
       "  </tbody>\n",
       "</table>\n",
       "</div>"
      ],
      "text/plain": [
       "                                         0   \n",
       "0                (28.31533961169276, 0.43)  \\\n",
       "1  (27.23559590103965, 0.4393638170974155)   \n",
       "2  (41.43018592790852, 0.4718109339407745)   \n",
       "\n",
       "                                          1   \n",
       "0                 (28.31533961169276, 0.43)  \\\n",
       "1  (27.358637104446768, 0.4234592445328032)   \n",
       "2   (41.43018592790852, 0.4718109339407745)   \n",
       "\n",
       "                                          2   \n",
       "0                (11.473050027421644, 0.47)  \\\n",
       "1    (22.5235357444839, 0.4234592445328032)   \n",
       "2  (39.371156719260185, 0.4701025056947608)   \n",
       "\n",
       "                                           3   \n",
       "0                 (11.473050027421644, 0.47)  \\\n",
       "1  (24.391189995072256, 0.43339960238568587)   \n",
       "2   (39.371156719260185, 0.4701025056947608)   \n",
       "\n",
       "                                          4   \n",
       "0               (10.982349448178164, 0.495)  \\\n",
       "1   (22.53688072775694, 0.4095427435387674)   \n",
       "2  (34.55756202310222, 0.46611617312072895)   \n",
       "\n",
       "                                           5  \n",
       "0                (10.982843682334524, 0.495)  \n",
       "1    (22.256801209358333, 0.415506958250497)  \n",
       "2  (29.900735053396403, 0.46611617312072895)  "
      ]
     },
     "execution_count": 78,
     "metadata": {},
     "output_type": "execute_result"
    }
   ],
   "source": [
    "df = pd.DataFrame([first_split, second_split, third_split])\n",
    "df"
   ]
  },
  {
   "cell_type": "code",
   "execution_count": 80,
   "metadata": {},
   "outputs": [],
   "source": [
    "# Flatten each tuple in the DataFrame\n",
    "flattened_data = []\n",
    "for row in df.itertuples(index=False):\n",
    "    flattened_data.append([elem[0] for elem in row])  # First elements\n",
    "    flattened_data.append([elem[1] for elem in row])  # Second elements\n",
    "\n",
    "# Recreate the DataFrame with the flattened data\n",
    "new_df = pd.DataFrame(flattened_data, columns=df.columns)"
   ]
  },
  {
   "cell_type": "code",
   "execution_count": 84,
   "metadata": {},
   "outputs": [],
   "source": [
    "new_df.columns = [\"ARXT_exog_retuned\", \"ARXT_exog_retrained\", \"ARXT_target_retuned\", \"ARXT_target_retrained\", \"AR_retrained\", \"AR\"]\n",
    "new_df.round(2)\n",
    "new_df.to_csv(\"split_results.csv\")"
   ]
  },
  {
   "cell_type": "code",
   "execution_count": 85,
   "metadata": {},
   "outputs": [
    {
     "data": {
      "text/html": [
       "<div>\n",
       "<style scoped>\n",
       "    .dataframe tbody tr th:only-of-type {\n",
       "        vertical-align: middle;\n",
       "    }\n",
       "\n",
       "    .dataframe tbody tr th {\n",
       "        vertical-align: top;\n",
       "    }\n",
       "\n",
       "    .dataframe thead th {\n",
       "        text-align: right;\n",
       "    }\n",
       "</style>\n",
       "<table border=\"1\" class=\"dataframe\">\n",
       "  <thead>\n",
       "    <tr style=\"text-align: right;\">\n",
       "      <th></th>\n",
       "      <th>ARXT_exog_retuned</th>\n",
       "      <th>ARXT_exog_retrained</th>\n",
       "      <th>ARXT_target_retuned</th>\n",
       "      <th>ARXT_target_retrained</th>\n",
       "      <th>AR_retrained</th>\n",
       "      <th>AR</th>\n",
       "    </tr>\n",
       "  </thead>\n",
       "  <tbody>\n",
       "    <tr>\n",
       "      <th>0</th>\n",
       "      <td>28.315340</td>\n",
       "      <td>28.315340</td>\n",
       "      <td>11.473050</td>\n",
       "      <td>11.473050</td>\n",
       "      <td>10.982349</td>\n",
       "      <td>10.982844</td>\n",
       "    </tr>\n",
       "    <tr>\n",
       "      <th>1</th>\n",
       "      <td>0.430000</td>\n",
       "      <td>0.430000</td>\n",
       "      <td>0.470000</td>\n",
       "      <td>0.470000</td>\n",
       "      <td>0.495000</td>\n",
       "      <td>0.495000</td>\n",
       "    </tr>\n",
       "    <tr>\n",
       "      <th>2</th>\n",
       "      <td>27.235596</td>\n",
       "      <td>27.358637</td>\n",
       "      <td>22.523536</td>\n",
       "      <td>24.391190</td>\n",
       "      <td>22.536881</td>\n",
       "      <td>22.256801</td>\n",
       "    </tr>\n",
       "    <tr>\n",
       "      <th>3</th>\n",
       "      <td>0.439364</td>\n",
       "      <td>0.423459</td>\n",
       "      <td>0.423459</td>\n",
       "      <td>0.433400</td>\n",
       "      <td>0.409543</td>\n",
       "      <td>0.415507</td>\n",
       "    </tr>\n",
       "    <tr>\n",
       "      <th>4</th>\n",
       "      <td>41.430186</td>\n",
       "      <td>41.430186</td>\n",
       "      <td>39.371157</td>\n",
       "      <td>39.371157</td>\n",
       "      <td>34.557562</td>\n",
       "      <td>29.900735</td>\n",
       "    </tr>\n",
       "    <tr>\n",
       "      <th>5</th>\n",
       "      <td>0.471811</td>\n",
       "      <td>0.471811</td>\n",
       "      <td>0.470103</td>\n",
       "      <td>0.470103</td>\n",
       "      <td>0.466116</td>\n",
       "      <td>0.466116</td>\n",
       "    </tr>\n",
       "  </tbody>\n",
       "</table>\n",
       "</div>"
      ],
      "text/plain": [
       "   ARXT_exog_retuned  ARXT_exog_retrained  ARXT_target_retuned   \n",
       "0          28.315340            28.315340            11.473050  \\\n",
       "1           0.430000             0.430000             0.470000   \n",
       "2          27.235596            27.358637            22.523536   \n",
       "3           0.439364             0.423459             0.423459   \n",
       "4          41.430186            41.430186            39.371157   \n",
       "5           0.471811             0.471811             0.470103   \n",
       "\n",
       "   ARXT_target_retrained  AR_retrained         AR  \n",
       "0              11.473050     10.982349  10.982844  \n",
       "1               0.470000      0.495000   0.495000  \n",
       "2              24.391190     22.536881  22.256801  \n",
       "3               0.433400      0.409543   0.415507  \n",
       "4              39.371157     34.557562  29.900735  \n",
       "5               0.470103      0.466116   0.466116  "
      ]
     },
     "execution_count": 85,
     "metadata": {},
     "output_type": "execute_result"
    }
   ],
   "source": [
    "new_df"
   ]
  }
 ],
 "metadata": {
  "kernelspec": {
   "display_name": ".venv",
   "language": "python",
   "name": "python3"
  },
  "language_info": {
   "codemirror_mode": {
    "name": "ipython",
    "version": 3
   },
   "file_extension": ".py",
   "mimetype": "text/x-python",
   "name": "python",
   "nbconvert_exporter": "python",
   "pygments_lexer": "ipython3",
   "version": "3.11.3"
  }
 },
 "nbformat": 4,
 "nbformat_minor": 2
}
